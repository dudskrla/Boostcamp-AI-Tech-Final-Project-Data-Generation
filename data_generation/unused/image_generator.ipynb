{
 "cells": [
  {
   "cell_type": "markdown",
   "metadata": {},
   "source": [
    "### 명함 이미지 저장 경로 설정"
   ]
  },
  {
   "cell_type": "code",
   "execution_count": 478,
   "metadata": {},
   "outputs": [],
   "source": [
    "import os "
   ]
  },
  {
   "cell_type": "code",
   "execution_count": 479,
   "metadata": {},
   "outputs": [],
   "source": [
    "def make_dir(directory: str):\n",
    "    if not os.path.exists(directory):\n",
    "        os.makedirs(directory, exist_ok=True)"
   ]
  },
  {
   "cell_type": "markdown",
   "metadata": {},
   "source": [
    "### 빈 이미지 생성 "
   ]
  },
  {
   "cell_type": "code",
   "execution_count": 480,
   "metadata": {},
   "outputs": [],
   "source": [
    "from PIL import Image\n",
    "import numpy as np"
   ]
  },
  {
   "cell_type": "code",
   "execution_count": 481,
   "metadata": {},
   "outputs": [],
   "source": [
    "card_directory = '/opt/ml/business_card_dataset'\n",
    "make_dir(card_directory)"
   ]
  },
  {
   "cell_type": "code",
   "execution_count": 482,
   "metadata": {},
   "outputs": [],
   "source": [
    "empty_card = np.full((250, 450, 3), (255, 255, 255), dtype=np.uint8) # 가로 : 세로 = 9 : 5 = 450 : 250 \n",
    "\n",
    "card = Image.fromarray(empty_card)\n",
    "card.save(f'{card_directory}/example.jpg')"
   ]
  },
  {
   "cell_type": "markdown",
   "metadata": {},
   "source": [
    "## 정보 생성"
   ]
  },
  {
   "cell_type": "code",
   "execution_count": 483,
   "metadata": {},
   "outputs": [],
   "source": [
    "# coding = utf-8\n",
    "from PIL import Image, ImageDraw, ImageFont"
   ]
  },
  {
   "cell_type": "markdown",
   "metadata": {},
   "source": [
    "### 이름 생성"
   ]
  },
  {
   "cell_type": "code",
   "execution_count": 484,
   "metadata": {},
   "outputs": [],
   "source": [
    "# 리스트에서 랜덤하게 추출한 정보 \n",
    "name = 'Kim Name Name'\n",
    "fontfamily = '/opt/ml/font/WooridaumR.ttf'\n",
    "img_size = (350, 50)\n",
    "name_loc = (10, 0) # (start_x, start_y) # 블로그 원문 참고 \n",
    "background_color = (255, 255, 255) # 배경색 설정\n",
    "font_color = (0, 0, 0)"
   ]
  },
  {
   "cell_type": "code",
   "execution_count": 485,
   "metadata": {},
   "outputs": [],
   "source": [
    "name_directory = '/opt/ml/business_card_dataset/name'\n",
    "make_dir(name_directory)"
   ]
  },
  {
   "cell_type": "code",
   "execution_count": 486,
   "metadata": {},
   "outputs": [
    {
     "data": {
      "image/png": "[encoded data removed]",
      "text/plain": [
       "<PIL.Image.Image image mode=RGB size=350x50 at 0x7F37016166D0>"
      ]
     },
     "metadata": {},
     "output_type": "display_data"
    }
   ],
   "source": [
    "name_img = Image.new(\"RGB\", img_size, background_color) \n",
    "draw = ImageDraw.Draw(name_img)\n",
    " \n",
    "font = ImageFont.truetype(fontfamily, 40)\n",
    "draw.text(name_loc, name, font=font, fill=font_color)\n",
    "name_img.save(f'{name_directory}/name_example.jpg')\n",
    "name_img.show()"
   ]
  },
  {
   "cell_type": "markdown",
   "metadata": {},
   "source": [
    "### 전화번호 생성"
   ]
  },
  {
   "cell_type": "code",
   "execution_count": 487,
   "metadata": {},
   "outputs": [],
   "source": [
    "# 리스트에서 랜덤하게 추출한 정보 \n",
    "phone_number = '010-0000-0000'\n",
    "fontfamily = '/opt/ml/font/WooridaumR.ttf'\n",
    "img_size = (250, 40)\n",
    "phone_number_loc = (10, 0) # (start_x, start_y) # 블로그 원문 참고 \n",
    "background_color = (255, 255, 255) # 배경색 설정\n",
    "font_color = (0, 0, 0)"
   ]
  },
  {
   "cell_type": "code",
   "execution_count": 488,
   "metadata": {},
   "outputs": [],
   "source": [
    "phone_number_directory = '/opt/ml/business_card_dataset/phone_number'\n",
    "make_dir(phone_number_directory)"
   ]
  },
  {
   "cell_type": "code",
   "execution_count": 489,
   "metadata": {},
   "outputs": [
    {
     "data": {
      "image/png": "[encoded data removed]",
      "text/plain": [
       "<PIL.Image.Image image mode=RGB size=250x40 at 0x7F37016163D0>"
      ]
     },
     "metadata": {},
     "output_type": "display_data"
    }
   ],
   "source": [
    "phone_number_img = Image.new(\"RGB\", img_size, background_color) \n",
    "draw = ImageDraw.Draw(phone_number_img)\n",
    " \n",
    "font = ImageFont.truetype(fontfamily, 30)\n",
    "draw.text(phone_number_loc, phone_number, font=font, fill=font_color)\n",
    "phone_number_img.save(f'{phone_number_directory}/phone_number_example.jpg')\n",
    "phone_number_img.show()"
   ]
  },
  {
   "cell_type": "markdown",
   "metadata": {},
   "source": [
    "### 이메일 주소 생성"
   ]
  },
  {
   "cell_type": "code",
   "execution_count": 490,
   "metadata": {},
   "outputs": [],
   "source": [
    "# 리스트에서 랜덤하게 추출한 정보 \n",
    "email = 'kimnamename@email.com'\n",
    "fontfamily = '/opt/ml/font/WooridaumR.ttf'\n",
    "img_size = (290, 25)\n",
    "email_loc = (10, 0) # (start_x, start_y) # 블로그 원문 참고 \n",
    "background_color = (255, 255, 255) # 배경색 설정\n",
    "font_color = (0, 0, 0)"
   ]
  },
  {
   "cell_type": "code",
   "execution_count": 491,
   "metadata": {},
   "outputs": [],
   "source": [
    "email_directory = '/opt/ml/business_card_dataset/email'\n",
    "make_dir(email_directory)"
   ]
  },
  {
   "cell_type": "code",
   "execution_count": 492,
   "metadata": {},
   "outputs": [
    {
     "data": {
      "image/png": "[encoded data removed]",
      "text/plain": [
       "<PIL.Image.Image image mode=RGB size=290x25 at 0x7F3701616850>"
      ]
     },
     "metadata": {},
     "output_type": "display_data"
    }
   ],
   "source": [
    "email_img = Image.new(\"RGB\", img_size, background_color) \n",
    "draw = ImageDraw.Draw(email_img)\n",
    " \n",
    "font = ImageFont.truetype(fontfamily, 20)\n",
    "draw.text(email_loc, email, font=font, fill=font_color)\n",
    "email_img.save(f'{email_directory}/email_example.jpg')\n",
    "email_img.show()"
   ]
  },
  {
   "cell_type": "markdown",
   "metadata": {},
   "source": [
    "### 직책 생성"
   ]
  },
  {
   "cell_type": "code",
   "execution_count": 493,
   "metadata": {},
   "outputs": [],
   "source": [
    "# 리스트에서 랜덤하게 추출한 정보 \n",
    "position = 'intern'\n",
    "fontfamily = '/opt/ml/font/WooridaumR.ttf'\n",
    "img_size = (100, 25)\n",
    "position_loc = (10, 0) # (start_x, start_y) # 블로그 원문 참고 \n",
    "background_color = (255, 255, 255) # 배경색 설정\n",
    "font_color = (0, 0, 0)"
   ]
  },
  {
   "cell_type": "code",
   "execution_count": 494,
   "metadata": {},
   "outputs": [],
   "source": [
    "position_directory = '/opt/ml/business_card_dataset/position'\n",
    "make_dir(position_directory)"
   ]
  },
  {
   "cell_type": "code",
   "execution_count": 495,
   "metadata": {},
   "outputs": [
    {
     "data": {
      "image/png": "[encoded data removed]",
      "text/plain": [
       "<PIL.Image.Image image mode=RGB size=100x25 at 0x7F3701616CA0>"
      ]
     },
     "metadata": {},
     "output_type": "display_data"
    }
   ],
   "source": [
    "position_img = Image.new(\"RGB\", img_size, background_color) \n",
    "draw = ImageDraw.Draw(position_img)\n",
    " \n",
    "font = ImageFont.truetype(fontfamily, 20)\n",
    "draw.text(position_loc, position, font=font, fill=font_color)\n",
    "position_img.save(f'{position_directory}/position_example.jpg')\n",
    "position_img.show()"
   ]
  },
  {
   "cell_type": "markdown",
   "metadata": {},
   "source": [
    "### 템플릿1 가져오기"
   ]
  },
  {
   "cell_type": "code",
   "execution_count": 496,
   "metadata": {},
   "outputs": [],
   "source": [
    "template = '/opt/ml/template/미리캔버스_1.png'"
   ]
  },
  {
   "cell_type": "code",
   "execution_count": 497,
   "metadata": {},
   "outputs": [
    {
     "data": {
      "image/png": "[encoded data removed]",
      "text/plain": [
       "<PIL.PngImagePlugin.PngImageFile image mode=RGBA size=355x204 at 0x7F373ED28190>"
      ]
     },
     "metadata": {},
     "output_type": "display_data"
    }
   ],
   "source": [
    "from PIL import Image\n",
    "im = Image.open(template)\n",
    "im.show()"
   ]
  },
  {
   "cell_type": "markdown",
   "metadata": {},
   "source": [
    "### 템플릿1로 명함 생성하기"
   ]
  },
  {
   "cell_type": "code",
   "execution_count": 498,
   "metadata": {},
   "outputs": [],
   "source": [
    "import PIL\n",
    "from PIL import Image,ImageDraw,ImageFont\n",
    "import os"
   ]
  },
  {
   "cell_type": "code",
   "execution_count": 499,
   "metadata": {},
   "outputs": [],
   "source": [
    "example_directory = '/opt/ml/business_card_dataset/example'\n",
    "make_dir(example_directory)"
   ]
  },
  {
   "cell_type": "code",
   "execution_count": 500,
   "metadata": {},
   "outputs": [],
   "source": [
    "img_size = (450, 250)\n",
    "background_color = (255, 255, 255) # 배경색 설정"
   ]
  },
  {
   "cell_type": "code",
   "execution_count": 506,
   "metadata": {},
   "outputs": [
    {
     "data": {
      "image/png": "[encoded data removed]",
      "text/plain": [
       "<PIL.Image.Image image mode=RGB size=450x250 at 0x7F37031A9A90>"
      ]
     },
     "metadata": {},
     "output_type": "display_data"
    }
   ],
   "source": [
    "card_img = Image.new(\"RGB\", img_size, background_color) \n",
    "draw = ImageDraw.Draw(card_img)\n",
    "\n",
    "items = ['name', 'phone_number', 'email', 'position']\n",
    "\n",
    "font_colors = {'name': (0, 0, 0),'phone_number': (0, 0, 0),'email': (0, 0, 0),'position': (0, 0, 0)}\n",
    "font_sizes = {'name' : 20, 'phone_number' : 10, 'email' : 10, 'position': 10}\n",
    "font_families = {'name' : '/opt/ml/font/WooridaumR.ttf' , 'phone_number' : '/opt/ml/font/WooridaumR.ttf' , 'email' : '/opt/ml/font/WooridaumR.ttf' , 'position': '/opt/ml/font/WooridaumR.ttf' }\n",
    "location = {'name' : (50, 50), 'phone_number' : (50, 100), 'email': (50, 120), 'position' : (230, 60)} # (x, y)\n",
    "value = {'name' : 'KIM NAME NAME', 'phone_number' : '010-0000-0000', 'email' : 'kimnamename@email.com', 'position': 'intern'}\n",
    "\n",
    "for item in items:\n",
    "    font_size = font_sizes[item]\n",
    "    font_family = font_families[item]\n",
    "    font = ImageFont.truetype(font_family, font_size)\n",
    "    font_color = font_colors[item]\n",
    "\n",
    "    draw.text(location[item], value[item], font=font, fill=font_color)\n",
    "card_img.save(f'{example_directory}/example.jpg')\n",
    "card_img.show()"
   ]
  },
  {
   "cell_type": "code",
   "execution_count": null,
   "metadata": {},
   "outputs": [],
   "source": []
  }
 ],
 "metadata": {
  "interpreter": {
   "hash": "c31e71a5e498f0aaae29fa2d4fcce91b7642bc45d7bb4c98f573abb4911baaab"
  },
  "kernelspec": {
   "display_name": "Python 3.8.13 ('mmseg')",
   "language": "python",
   "name": "python3"
  },
  "language_info": {
   "codemirror_mode": {
    "name": "ipython",
    "version": 3
   },
   "file_extension": ".py",
   "mimetype": "text/x-python",
   "name": "python",
   "nbconvert_exporter": "python",
   "pygments_lexer": "ipython3",
   "version": "3.8.13"
  },
  "orig_nbformat": 4
 },
 "nbformat": 4,
 "nbformat_minor": 2
}
